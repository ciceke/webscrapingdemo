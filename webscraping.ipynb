{
 "cells": [
  {
   "cell_type": "code",
   "execution_count": 1,
   "metadata": {},
   "outputs": [],
   "source": [
    "# importing libraries\n",
    "from bs4 import BeautifulSoup\n",
    "import urllib.request\n",
    "import re\n",
    "import pandas as pd\n",
    "import datetime"
   ]
  },
  {
   "cell_type": "code",
   "execution_count": 2,
   "metadata": {},
   "outputs": [],
   "source": [
    "url=\"https://thehallofrecords.930.com/\""
   ]
  },
  {
   "cell_type": "code",
   "execution_count": 3,
   "metadata": {},
   "outputs": [],
   "source": [
    "# conntect to website\n",
    "page = urllib.request.urlopen(url)"
   ]
  },
  {
   "cell_type": "code",
   "execution_count": 4,
   "metadata": {},
   "outputs": [],
   "source": [
    "soup = BeautifulSoup(page, 'html.parser')"
   ]
  },
  {
   "cell_type": "code",
   "execution_count": 5,
   "metadata": {
    "scrolled": true
   },
   "outputs": [],
   "source": [
    "content_lis = soup.find_all('div', attrs={'class':\"panel panel-default\"})"
   ]
  },
  {
   "cell_type": "code",
   "execution_count": 6,
   "metadata": {},
   "outputs": [],
   "source": [
    "df = pd.DataFrame(columns = ['band','album','date','albumtype'])"
   ]
  },
  {
   "cell_type": "code",
   "execution_count": 7,
   "metadata": {},
   "outputs": [],
   "source": [
    "k=0\n",
    "for lisitem in range(len(content_lis)):\n",
    "    h = content_lis[lisitem].find('h4', attrs={\"class\":\"panel-title\"})\n",
    "    a_tag=h.find('a')\n",
    "    band=a_tag.getText().split('\\n')[1].strip()\n",
    "    for i in range (len(content_lis[lisitem].find_all('tr'))-1):\n",
    "        alb=content_lis[lisitem].find_all('tr')[i+1].find_all('td')[0].find('span',attrs={\"class\":\"album\"})\n",
    "        album=alb.getText().split('\\n')[1].strip()\n",
    "        dt=content_lis[lisitem].find_all('tr')[i+1].find_all('td')[1].text.strip()\n",
    "        dt1=datetime.datetime.strptime(dt, \"%Y-%m-%d\")\n",
    "        typ=content_lis[lisitem].find_all('tr')[i+1].find_all('td')[2].text.strip()\n",
    "        df.loc[k]=[band,album,dt1,typ]\n",
    "        k+=1"
   ]
  },
  {
   "cell_type": "code",
   "execution_count": 8,
   "metadata": {},
   "outputs": [
    {
     "data": {
      "text/html": [
       "<div>\n",
       "<style scoped>\n",
       "    .dataframe tbody tr th:only-of-type {\n",
       "        vertical-align: middle;\n",
       "    }\n",
       "\n",
       "    .dataframe tbody tr th {\n",
       "        vertical-align: top;\n",
       "    }\n",
       "\n",
       "    .dataframe thead th {\n",
       "        text-align: right;\n",
       "    }\n",
       "</style>\n",
       "<table border=\"1\" class=\"dataframe\">\n",
       "  <thead>\n",
       "    <tr style=\"text-align: right;\">\n",
       "      <th></th>\n",
       "      <th>band</th>\n",
       "      <th>album</th>\n",
       "      <th>date</th>\n",
       "      <th>albumtype</th>\n",
       "    </tr>\n",
       "  </thead>\n",
       "  <tbody>\n",
       "    <tr>\n",
       "      <th>0</th>\n",
       "      <td>1/2 JAPANESE</td>\n",
       "      <td>Loud</td>\n",
       "      <td>1982-10-31</td>\n",
       "      <td>Vinyl</td>\n",
       "    </tr>\n",
       "    <tr>\n",
       "      <th>1</th>\n",
       "      <td>2 CHAINZ</td>\n",
       "      <td>Based on a T.R.U. Story</td>\n",
       "      <td>2012-09-02</td>\n",
       "      <td>CD</td>\n",
       "    </tr>\n",
       "    <tr>\n",
       "      <th>2</th>\n",
       "      <td>2 LIVE CREW</td>\n",
       "      <td>As Nasty As They Wanna Be</td>\n",
       "      <td>1990-10-02</td>\n",
       "      <td>Vinyl</td>\n",
       "    </tr>\n",
       "    <tr>\n",
       "      <th>3</th>\n",
       "      <td>24-7 SPYZ</td>\n",
       "      <td>Strength in Numbers</td>\n",
       "      <td>1992-01-02</td>\n",
       "      <td>CD</td>\n",
       "    </tr>\n",
       "    <tr>\n",
       "      <th>4</th>\n",
       "      <td>24-7 SPYZ</td>\n",
       "      <td>Strength in Numbers</td>\n",
       "      <td>1992-12-22</td>\n",
       "      <td>CD</td>\n",
       "    </tr>\n",
       "  </tbody>\n",
       "</table>\n",
       "</div>"
      ],
      "text/plain": [
       "           band                      album       date albumtype\n",
       "0  1/2 JAPANESE                       Loud 1982-10-31     Vinyl\n",
       "1      2 CHAINZ    Based on a T.R.U. Story 2012-09-02        CD\n",
       "2   2 LIVE CREW  As Nasty As They Wanna Be 1990-10-02     Vinyl\n",
       "3     24-7 SPYZ        Strength in Numbers 1992-01-02        CD\n",
       "4     24-7 SPYZ        Strength in Numbers 1992-12-22        CD"
      ]
     },
     "execution_count": 8,
     "metadata": {},
     "output_type": "execute_result"
    }
   ],
   "source": [
    "df.head()"
   ]
  },
  {
   "cell_type": "code",
   "execution_count": 9,
   "metadata": {},
   "outputs": [
    {
     "data": {
      "text/html": [
       "<div>\n",
       "<style scoped>\n",
       "    .dataframe tbody tr th:only-of-type {\n",
       "        vertical-align: middle;\n",
       "    }\n",
       "\n",
       "    .dataframe tbody tr th {\n",
       "        vertical-align: top;\n",
       "    }\n",
       "\n",
       "    .dataframe thead th {\n",
       "        text-align: right;\n",
       "    }\n",
       "</style>\n",
       "<table border=\"1\" class=\"dataframe\">\n",
       "  <thead>\n",
       "    <tr style=\"text-align: right;\">\n",
       "      <th></th>\n",
       "      <th>band</th>\n",
       "      <th>album</th>\n",
       "      <th>date</th>\n",
       "      <th>albumtype</th>\n",
       "    </tr>\n",
       "  </thead>\n",
       "  <tbody>\n",
       "    <tr>\n",
       "      <th>count</th>\n",
       "      <td>2744</td>\n",
       "      <td>2744</td>\n",
       "      <td>2744</td>\n",
       "      <td>2744</td>\n",
       "    </tr>\n",
       "    <tr>\n",
       "      <th>unique</th>\n",
       "      <td>1567</td>\n",
       "      <td>2236</td>\n",
       "      <td>2696</td>\n",
       "      <td>2</td>\n",
       "    </tr>\n",
       "    <tr>\n",
       "      <th>top</th>\n",
       "      <td>TOASTERS</td>\n",
       "      <td>Dub 56</td>\n",
       "      <td>2011-10-22 00:00:00</td>\n",
       "      <td>CD</td>\n",
       "    </tr>\n",
       "    <tr>\n",
       "      <th>freq</th>\n",
       "      <td>29</td>\n",
       "      <td>12</td>\n",
       "      <td>3</td>\n",
       "      <td>2295</td>\n",
       "    </tr>\n",
       "    <tr>\n",
       "      <th>first</th>\n",
       "      <td>NaN</td>\n",
       "      <td>NaN</td>\n",
       "      <td>1980-06-13 00:00:00</td>\n",
       "      <td>NaN</td>\n",
       "    </tr>\n",
       "    <tr>\n",
       "      <th>last</th>\n",
       "      <td>NaN</td>\n",
       "      <td>NaN</td>\n",
       "      <td>2019-02-20 00:00:00</td>\n",
       "      <td>NaN</td>\n",
       "    </tr>\n",
       "  </tbody>\n",
       "</table>\n",
       "</div>"
      ],
      "text/plain": [
       "            band   album                 date albumtype\n",
       "count       2744    2744                 2744      2744\n",
       "unique      1567    2236                 2696         2\n",
       "top     TOASTERS  Dub 56  2011-10-22 00:00:00        CD\n",
       "freq          29      12                    3      2295\n",
       "first        NaN     NaN  1980-06-13 00:00:00       NaN\n",
       "last         NaN     NaN  2019-02-20 00:00:00       NaN"
      ]
     },
     "execution_count": 9,
     "metadata": {},
     "output_type": "execute_result"
    }
   ],
   "source": [
    "df.describe()"
   ]
  },
  {
   "cell_type": "code",
   "execution_count": 10,
   "metadata": {},
   "outputs": [
    {
     "name": "stdout",
     "output_type": "stream",
     "text": [
      "<class 'pandas.core.frame.DataFrame'>\n",
      "Int64Index: 2744 entries, 0 to 2743\n",
      "Data columns (total 4 columns):\n",
      "band         2744 non-null object\n",
      "album        2744 non-null object\n",
      "date         2744 non-null datetime64[ns]\n",
      "albumtype    2744 non-null object\n",
      "dtypes: datetime64[ns](1), object(3)\n",
      "memory usage: 107.2+ KB\n"
     ]
    }
   ],
   "source": [
    "df.info()"
   ]
  },
  {
   "cell_type": "code",
   "execution_count": 11,
   "metadata": {},
   "outputs": [
    {
     "data": {
      "text/plain": [
       "count     2744\n",
       "unique       2\n",
       "top         CD\n",
       "freq      2295\n",
       "Name: albumtype, dtype: object"
      ]
     },
     "execution_count": 11,
     "metadata": {},
     "output_type": "execute_result"
    }
   ],
   "source": [
    "df['albumtype'].describe()"
   ]
  }
 ],
 "metadata": {
  "kernelspec": {
   "display_name": "Python 3",
   "language": "python",
   "name": "python3"
  },
  "language_info": {
   "codemirror_mode": {
    "name": "ipython",
    "version": 3
   },
   "file_extension": ".py",
   "mimetype": "text/x-python",
   "name": "python",
   "nbconvert_exporter": "python",
   "pygments_lexer": "ipython3",
   "version": "3.6.4"
  }
 },
 "nbformat": 4,
 "nbformat_minor": 2
}
